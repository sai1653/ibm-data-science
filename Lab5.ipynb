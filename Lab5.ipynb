{
  "nbformat": 4,
  "nbformat_minor": 0,
  "metadata": {
    "colab": {
      "provenance": [],
      "include_colab_link": true
    },
    "kernelspec": {
      "name": "python3",
      "display_name": "Python 3"
    },
    "language_info": {
      "name": "python"
    }
  },
  "cells": [
    {
      "cell_type": "markdown",
      "metadata": {
        "id": "view-in-github",
        "colab_type": "text"
      },
      "source": [
        "<a href=\"https://colab.research.google.com/github/sai1653/ibm-data-science/blob/main/Lab5.ipynb\" target=\"_parent\"><img src=\"https://colab.research.google.com/assets/colab-badge.svg\" alt=\"Open In Colab\"/></a>"
      ]
    },
    {
      "cell_type": "code",
      "source": [
        "import pandas as pd\n",
        "import requests\n",
        "from bs4 import BeautifulSoup\n",
        "import matplotlib.pyplot as plt\n",
        "from datetime import datetime\n",
        "import yfinance as yf"
      ],
      "metadata": {
        "id": "Vif3Q0sPC_-2"
      },
      "execution_count": 1,
      "outputs": []
    },
    {
      "cell_type": "code",
      "source": [
        "\n",
        "\n",
        "def get_stock_data(symbol):\n",
        "    try:\n",
        "        stock = yf.Ticker(symbol)\n",
        "        df = stock.history(period=\"1y\")\n",
        "        df = df.reset_index()\n",
        "        df = df[['Date', 'Close']]\n",
        "        df['Date'] = pd.to_datetime(df['Date'])\n",
        "        return df\n",
        "    except Exception as e:\n",
        "        print(f\"Error fetching stock data for {symbol}: {e}\")\n",
        "        return pd.DataFrame(columns=['Date', 'Close'])\n",
        "\n",
        "def scrape_revenue_data(url):\n",
        "    try:\n",
        "        headers = {\n",
        "            \"User-Agent\": \"Mozilla/5.0 (Windows NT 10.0; Win64; x64) AppleWebKit/537.36 (KHTML, like Gecko) Chrome/91.0.4472.124 Safari/537.36\"\n",
        "        }\n",
        "        response = requests.get(url, headers=headers)\n",
        "        soup = BeautifulSoup(response.text, 'html.parser')\n",
        "\n",
        "        table = soup.find('table', {'class': 'historical_data_table'})\n",
        "        if table is None:\n",
        "            raise ValueError(\"Could not find the revenue table on the webpage\")\n",
        "\n",
        "        data = []\n",
        "        for row in table.find_all('tr')[1:]:  # Skip header row\n",
        "            cols = row.find_all('td')\n",
        "            if len(cols) >= 2:\n",
        "                date = cols[0].text.strip()\n",
        "                revenue = cols[1].text.strip().replace('$', '').replace(',', '')\n",
        "                if revenue:\n",
        "                    data.append({'Date': date, 'Revenue': float(revenue)})\n",
        "\n",
        "        df = pd.DataFrame(data)\n",
        "        df['Date'] = pd.to_datetime(df['Date'])\n",
        "        return df\n",
        "    except Exception as e:\n",
        "        print(f\"Error scraping revenue data from {url}: {e}\")\n",
        "        return pd.DataFrame(columns=['Date', 'Revenue'])\n",
        "\n",
        "def create_dashboard(stock_data, revenue_data, company):\n",
        "    if stock_data.empty or revenue_data.empty:\n",
        "        print(f\"Not enough data to create dashboard for {company}\")\n",
        "        return\n",
        "\n",
        "    fig, (ax1, ax2) = plt.subplots(2, 1, figsize=(12, 16))\n",
        "\n",
        "    ax1.plot(stock_data['Date'], stock_data['Close'])\n",
        "    ax1.set_title(f'{company} Stock Price')\n",
        "    ax1.set_xlabel('Date')\n",
        "    ax1.set_ylabel('Stock Price')\n",
        "\n",
        "    ax2.plot(revenue_data['Date'], revenue_data['Revenue'])\n",
        "    ax2.set_title(f'{company} Revenue')\n",
        "    ax2.set_xlabel('Date')\n",
        "    ax2.set_ylabel('Revenue')\n",
        "\n",
        "    plt.tight_layout()\n",
        "    plt.savefig(f'{company}_dashboard.png')\n",
        "    plt.close()\n",
        "    print(f\"Dashboard created for {company}\")\n",
        "\n"
      ],
      "metadata": {
        "id": "VnDq5dYUDZiU"
      },
      "execution_count": 2,
      "outputs": []
    },
    {
      "cell_type": "code",
      "source": [
        "# Tesla Analysis\n",
        "tesla_stock = get_stock_data('TSLA')\n",
        "tesla_revenue = scrape_revenue_data('https://www.macrotrends.net/stocks/charts/TSLA/tesla/revenue')\n",
        "create_dashboard(tesla_stock, tesla_revenue, 'Tesla')\n",
        "\n"
      ],
      "metadata": {
        "colab": {
          "base_uri": "https://localhost:8080/"
        },
        "id": "mZRpL0u_C9vr",
        "outputId": "efb75b3f-d5b6-4807-bc4c-96be1018b3db"
      },
      "execution_count": 3,
      "outputs": [
        {
          "output_type": "stream",
          "name": "stdout",
          "text": [
            "Dashboard created for Tesla\n"
          ]
        }
      ]
    },
    {
      "cell_type": "code",
      "source": [
        "# GameStop Analysis\n",
        "gme_stock = get_stock_data('GME')\n",
        "gme_revenue = scrape_revenue_data('https://www.macrotrends.net/stocks/charts/GME/gamestop/revenue')\n",
        "create_dashboard(gme_stock, gme_revenue, 'GameStop')\n",
        "\n",
        "print(\"Analysis complete!\")"
      ],
      "metadata": {
        "colab": {
          "base_uri": "https://localhost:8080/"
        },
        "id": "uG2apQtRDFA7",
        "outputId": "5db2a5ed-11c9-4068-b24e-b5dc21a7a10b"
      },
      "execution_count": 4,
      "outputs": [
        {
          "output_type": "stream",
          "name": "stdout",
          "text": [
            "Dashboard created for GameStop\n",
            "Analysis complete!\n"
          ]
        }
      ]
    },
    {
      "cell_type": "code",
      "source": [
        "# Tesla Data Display\n",
        "print(\"Tesla Stock Data - First 5 rows:\")\n",
        "tesla_stock = tesla_stock.reset_index(drop=True)\n",
        "print(tesla_stock.head())\n",
        "print(\"\\nTesla Revenue Data - Last 5 rows:\")\n",
        "print(tesla_revenue.tail())\n",
        "\n"
      ],
      "metadata": {
        "colab": {
          "base_uri": "https://localhost:8080/"
        },
        "id": "HIceW1epEvQ0",
        "outputId": "71089069-5591-4c3d-c4bf-b1312216c01c"
      },
      "execution_count": 5,
      "outputs": [
        {
          "output_type": "stream",
          "name": "stdout",
          "text": [
            "Tesla Stock Data - First 5 rows:\n",
            "                       Date       Close\n",
            "0 2023-08-03 00:00:00-04:00  259.320007\n",
            "1 2023-08-04 00:00:00-04:00  253.860001\n",
            "2 2023-08-07 00:00:00-04:00  251.449997\n",
            "3 2023-08-08 00:00:00-04:00  249.699997\n",
            "4 2023-08-09 00:00:00-04:00  242.190002\n",
            "\n",
            "Tesla Revenue Data - Last 5 rows:\n",
            "         Date  Revenue\n",
            "10 2013-01-01   2013.0\n",
            "11 2012-01-01    413.0\n",
            "12 2011-01-01    204.0\n",
            "13 2010-01-01    117.0\n",
            "14 2009-01-01    112.0\n"
          ]
        }
      ]
    },
    {
      "cell_type": "code",
      "source": [
        "\n",
        "print(\"\\nGameStop Stock Data - First 5 rows:\")\n",
        "gme_stock = gme_stock.reset_index(drop=True)\n",
        "print(gme_stock.head())\n",
        "print(\"\\nGameStop Revenue Data - Last 5 rows:\")\n",
        "print(gme_revenue.tail())\n",
        "\n"
      ],
      "metadata": {
        "colab": {
          "base_uri": "https://localhost:8080/"
        },
        "id": "N19e4krrExAy",
        "outputId": "b36086b8-edcd-4cef-fc9d-f1c4290c0f20"
      },
      "execution_count": 6,
      "outputs": [
        {
          "output_type": "stream",
          "name": "stdout",
          "text": [
            "\n",
            "GameStop Stock Data - First 5 rows:\n",
            "                       Date  Close\n",
            "0 2023-08-03 00:00:00-04:00  20.93\n",
            "1 2023-08-04 00:00:00-04:00  20.98\n",
            "2 2023-08-07 00:00:00-04:00  21.07\n",
            "3 2023-08-08 00:00:00-04:00  20.74\n",
            "4 2023-08-09 00:00:00-04:00  19.93\n",
            "\n",
            "GameStop Revenue Data - Last 5 rows:\n",
            "         Date  Revenue\n",
            "11 2013-01-01   8887.0\n",
            "12 2012-01-01   9551.0\n",
            "13 2011-01-01   9474.0\n",
            "14 2010-01-01   9078.0\n",
            "15 2009-01-01   8806.0\n"
          ]
        }
      ]
    },
    {
      "cell_type": "code",
      "source": [
        "\n",
        "tesla_stock.to_csv('tesla_stock_data.csv', index=False)\n",
        "tesla_revenue.to_csv('tesla_revenue_data.csv', index=False)\n",
        "gme_stock.to_csv('gme_stock_data.csv', index=False)\n",
        "gme_revenue.to_csv('gme_revenue_data.csv', index=False)\n",
        "\n",
        "print(\"\\nData has been displayed and saved to CSV files.\")"
      ],
      "metadata": {
        "colab": {
          "base_uri": "https://localhost:8080/"
        },
        "id": "nics-SdWEygm",
        "outputId": "778ae95e-d881-4ce6-8c03-18c983f5c6a0"
      },
      "execution_count": 7,
      "outputs": [
        {
          "output_type": "stream",
          "name": "stdout",
          "text": [
            "\n",
            "Data has been displayed and saved to CSV files.\n"
          ]
        }
      ]
    }
  ]
}